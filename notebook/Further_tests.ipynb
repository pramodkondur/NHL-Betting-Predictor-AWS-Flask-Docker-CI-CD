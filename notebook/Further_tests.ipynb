{
 "cells": [
  {
   "cell_type": "code",
   "execution_count": 10,
   "metadata": {},
   "outputs": [
    {
     "name": "stdout",
     "output_type": "stream",
     "text": [
      "  homeTeamCode awayTeamCode  season  isPlayoffGame  \\\n",
      "0          TBL          PIT    2011              0   \n",
      "\n",
      "   total_games_played_by_home  total_games_played_by_away  total_wins_home  \\\n",
      "0                          82                          82               20   \n",
      "\n",
      "   total_losses_home  total_wins_away  total_losses_away  \\\n",
      "0                 42               80                  2   \n",
      "\n",
      "   last_10_games_win_home  last_10_games_win_away  last_meeting_result  \\\n",
      "0                       5                      10                    0   \n",
      "\n",
      "   last_game_result_home  last_game_result_away  \n",
      "0                    2.0                    2.0  \n",
      "Before Prediction\n",
      "Mid Prediction\n",
      "Before Loading\n",
      "After Loading\n",
      "after Prediction\n",
      "[0]\n"
     ]
    }
   ],
   "source": [
    "import pandas as pd\n",
    "from sklearn.preprocessing import LabelEncoder\n",
    "from sklearn.ensemble import RandomForestClassifier\n",
    "from sklearn.model_selection import train_test_split\n",
    "import joblib\n",
    "import os\n",
    "\n",
    "# Load the model and preprocessor (this is your original PredictPipeline logic)\n",
    "class PredictPipeline:\n",
    "    def __init__(self):\n",
    "        pass\n",
    "\n",
    "    def predict(self, features):\n",
    "        try:\n",
    "            model_path = '/Users/pramodkondur/vscode_projects/Bet-On-NHL/artifacts/model.pkl'\n",
    "            preprocessor_path = '/Users/pramodkondur/vscode_projects/Bet-On-NHL/artifacts/proprocessor.pkl'\n",
    "            print(\"Before Loading\")\n",
    "            model = joblib.load(model_path)\n",
    "            preprocessor = joblib.load(preprocessor_path)\n",
    "            print(\"After Loading\")\n",
    "            data_transformed = preprocessor.transform(features)\n",
    "            preds = model.predict(data_transformed)\n",
    "            return preds\n",
    "        except Exception as e:\n",
    "            print(\"Error in prediction:\", e)\n",
    "\n",
    "\n",
    "# Prepare a new input for prediction\n",
    "data = {\n",
    "    'homeTeamCode': ['TBL'],\n",
    "    'awayTeamCode': ['PIT'],\n",
    "    'season': [2011],\n",
    "    'isPlayoffGame': [0],\n",
    "    'total_games_played_by_home': [82],\n",
    "    'total_games_played_by_away': [82],\n",
    "    'total_wins_home': [20],\n",
    "    'total_losses_home': [42],\n",
    "    'total_wins_away': [80],\n",
    "    'total_losses_away': [2],\n",
    "    'last_10_games_win_home': [5],\n",
    "    'last_10_games_win_away': [10],\n",
    "    'last_meeting_result': [0],\n",
    "    'last_game_result_home': [1.0],\n",
    "    'last_game_result_away': [1.0]\n",
    "}\n",
    "\n",
    "pred_df = pd.DataFrame(data) \n",
    "print(pred_df)\n",
    "\n",
    "print(\"Before Prediction\")\n",
    "\n",
    "predict_pipeline=PredictPipeline()\n",
    "print(\"Mid Prediction\")\n",
    "results=predict_pipeline.predict(pred_df)\n",
    "print(\"after Prediction\")\n",
    "print(results)"
   ]
  },
  {
   "cell_type": "code",
   "execution_count": 7,
   "metadata": {},
   "outputs": [
    {
     "data": {
      "text/plain": [
       "awayTeamCode                   object\n",
       "game_id                         int64\n",
       "homeTeamCode                   object\n",
       "homeTeamWon                     int64\n",
       "isPlayoffGame                   int64\n",
       "season                          int64\n",
       "total_games_played_by_home      int64\n",
       "total_games_played_by_away      int64\n",
       "total_wins_home                 int64\n",
       "total_losses_home               int64\n",
       "total_wins_away                 int64\n",
       "total_losses_away               int64\n",
       "last_10_games_win_home          int64\n",
       "last_10_games_win_away          int64\n",
       "last_meeting_result             int64\n",
       "last_game_result_home         float64\n",
       "last_game_result_away         float64\n",
       "dtype: object"
      ]
     },
     "execution_count": 7,
     "metadata": {},
     "output_type": "execute_result"
    }
   ],
   "source": [
    "df1 = pd.read_csv('/artifacts/data.csv')\n",
    "df1.dtypes"
   ]
  },
  {
   "cell_type": "code",
   "execution_count": null,
   "metadata": {},
   "outputs": [],
   "source": []
  }
 ],
 "metadata": {
  "kernelspec": {
   "display_name": "Python 3",
   "language": "python",
   "name": "python3"
  },
  "language_info": {
   "codemirror_mode": {
    "name": "ipython",
    "version": 3
   },
   "file_extension": ".py",
   "mimetype": "text/x-python",
   "name": "python",
   "nbconvert_exporter": "python",
   "pygments_lexer": "ipython3",
   "version": "3.12.0"
  }
 },
 "nbformat": 4,
 "nbformat_minor": 2
}
