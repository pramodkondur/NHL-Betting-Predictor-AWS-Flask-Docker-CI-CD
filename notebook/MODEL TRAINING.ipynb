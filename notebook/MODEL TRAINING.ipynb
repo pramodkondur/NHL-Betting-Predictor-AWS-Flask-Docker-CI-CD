{
 "cells": [
  {
   "attachments": {},
   "cell_type": "markdown",
   "id": "92e48866",
   "metadata": {},
   "source": [
    "## Model Training"
   ]
  },
  {
   "cell_type": "markdown",
   "id": "25791a74",
   "metadata": {},
   "source": [
    "#### 1.1 Import Data and Required Packages\n",
    "##### Importing Pandas, Numpy, Matplotlib, Seaborn and Warings Library."
   ]
  },
  {
   "cell_type": "code",
   "execution_count": 1,
   "id": "b080dfb2",
   "metadata": {},
   "outputs": [],
   "source": [
    "# Basic Import\n",
    "import numpy as np\n",
    "import pandas as pd\n",
    "import matplotlib.pyplot as plt \n",
    "import seaborn as sns\n",
    "# Modelling\n",
    "from sklearn.model_selection import train_test_split\n",
    "from sklearn.metrics import accuracy_score, roc_auc_score\n",
    "from sklearn.linear_model import LogisticRegression\n",
    "from sklearn.ensemble import RandomForestClassifier\n",
    "from sklearn.metrics import confusion_matrix, classification_report, f1_score, precision_score, recall_score\n",
    "from sklearn.preprocessing import LabelEncoder\n",
    "import warnings"
   ]
  },
  {
   "cell_type": "markdown",
   "id": "e45079ad",
   "metadata": {},
   "source": [
    "#### Import the CSV Data as Pandas DataFrame"
   ]
  },
  {
   "cell_type": "code",
   "execution_count": 2,
   "id": "e11c6255",
   "metadata": {},
   "outputs": [],
   "source": [
    "df = pd.read_csv('data/nhl_data_new_features.csv')"
   ]
  },
  {
   "cell_type": "markdown",
   "id": "20634923",
   "metadata": {},
   "source": [
    "#### Show Top 5 Records"
   ]
  },
  {
   "cell_type": "code",
   "execution_count": 3,
   "id": "e7e412a2",
   "metadata": {},
   "outputs": [
    {
     "data": {
      "text/html": [
       "<div>\n",
       "<style scoped>\n",
       "    .dataframe tbody tr th:only-of-type {\n",
       "        vertical-align: middle;\n",
       "    }\n",
       "\n",
       "    .dataframe tbody tr th {\n",
       "        vertical-align: top;\n",
       "    }\n",
       "\n",
       "    .dataframe thead th {\n",
       "        text-align: right;\n",
       "    }\n",
       "</style>\n",
       "<table border=\"1\" class=\"dataframe\">\n",
       "  <thead>\n",
       "    <tr style=\"text-align: right;\">\n",
       "      <th></th>\n",
       "      <th>awayTeamCode</th>\n",
       "      <th>game_id</th>\n",
       "      <th>homeTeamCode</th>\n",
       "      <th>homeTeamWon</th>\n",
       "      <th>isPlayoffGame</th>\n",
       "      <th>season</th>\n",
       "      <th>total_games_played_by_home</th>\n",
       "      <th>total_games_played_by_away</th>\n",
       "      <th>total_wins_home</th>\n",
       "      <th>total_losses_home</th>\n",
       "      <th>total_wins_away</th>\n",
       "      <th>total_losses_away</th>\n",
       "      <th>last_10_games_win_home</th>\n",
       "      <th>last_10_games_win_away</th>\n",
       "      <th>last_meeting_result</th>\n",
       "      <th>last_game_result_home</th>\n",
       "      <th>last_game_result_away</th>\n",
       "    </tr>\n",
       "  </thead>\n",
       "  <tbody>\n",
       "    <tr>\n",
       "      <th>0</th>\n",
       "      <td>ANA</td>\n",
       "      <td>20001</td>\n",
       "      <td>LAK</td>\n",
       "      <td>1</td>\n",
       "      <td>0</td>\n",
       "      <td>2007</td>\n",
       "      <td>0</td>\n",
       "      <td>0</td>\n",
       "      <td>0</td>\n",
       "      <td>0</td>\n",
       "      <td>0</td>\n",
       "      <td>0</td>\n",
       "      <td>0</td>\n",
       "      <td>0</td>\n",
       "      <td>1</td>\n",
       "      <td>NaN</td>\n",
       "      <td>NaN</td>\n",
       "    </tr>\n",
       "    <tr>\n",
       "      <th>1</th>\n",
       "      <td>LAK</td>\n",
       "      <td>20002</td>\n",
       "      <td>ANA</td>\n",
       "      <td>1</td>\n",
       "      <td>0</td>\n",
       "      <td>2007</td>\n",
       "      <td>1</td>\n",
       "      <td>1</td>\n",
       "      <td>0</td>\n",
       "      <td>1</td>\n",
       "      <td>1</td>\n",
       "      <td>0</td>\n",
       "      <td>0</td>\n",
       "      <td>1</td>\n",
       "      <td>1</td>\n",
       "      <td>0.0</td>\n",
       "      <td>1.0</td>\n",
       "    </tr>\n",
       "    <tr>\n",
       "      <th>2</th>\n",
       "      <td>MTL</td>\n",
       "      <td>20003</td>\n",
       "      <td>CAR</td>\n",
       "      <td>0</td>\n",
       "      <td>0</td>\n",
       "      <td>2007</td>\n",
       "      <td>0</td>\n",
       "      <td>0</td>\n",
       "      <td>0</td>\n",
       "      <td>0</td>\n",
       "      <td>0</td>\n",
       "      <td>0</td>\n",
       "      <td>0</td>\n",
       "      <td>0</td>\n",
       "      <td>1</td>\n",
       "      <td>NaN</td>\n",
       "      <td>NaN</td>\n",
       "    </tr>\n",
       "    <tr>\n",
       "      <th>3</th>\n",
       "      <td>ANA</td>\n",
       "      <td>20004</td>\n",
       "      <td>DET</td>\n",
       "      <td>1</td>\n",
       "      <td>0</td>\n",
       "      <td>2007</td>\n",
       "      <td>0</td>\n",
       "      <td>2</td>\n",
       "      <td>0</td>\n",
       "      <td>0</td>\n",
       "      <td>1</td>\n",
       "      <td>1</td>\n",
       "      <td>0</td>\n",
       "      <td>1</td>\n",
       "      <td>0</td>\n",
       "      <td>NaN</td>\n",
       "      <td>1.0</td>\n",
       "    </tr>\n",
       "    <tr>\n",
       "      <th>4</th>\n",
       "      <td>OTT</td>\n",
       "      <td>20005</td>\n",
       "      <td>TOR</td>\n",
       "      <td>0</td>\n",
       "      <td>0</td>\n",
       "      <td>2007</td>\n",
       "      <td>0</td>\n",
       "      <td>0</td>\n",
       "      <td>0</td>\n",
       "      <td>0</td>\n",
       "      <td>0</td>\n",
       "      <td>0</td>\n",
       "      <td>0</td>\n",
       "      <td>0</td>\n",
       "      <td>0</td>\n",
       "      <td>NaN</td>\n",
       "      <td>NaN</td>\n",
       "    </tr>\n",
       "  </tbody>\n",
       "</table>\n",
       "</div>"
      ],
      "text/plain": [
       "  awayTeamCode  game_id homeTeamCode  homeTeamWon  isPlayoffGame  season  \\\n",
       "0          ANA    20001          LAK            1              0    2007   \n",
       "1          LAK    20002          ANA            1              0    2007   \n",
       "2          MTL    20003          CAR            0              0    2007   \n",
       "3          ANA    20004          DET            1              0    2007   \n",
       "4          OTT    20005          TOR            0              0    2007   \n",
       "\n",
       "   total_games_played_by_home  total_games_played_by_away  total_wins_home  \\\n",
       "0                           0                           0                0   \n",
       "1                           1                           1                0   \n",
       "2                           0                           0                0   \n",
       "3                           0                           2                0   \n",
       "4                           0                           0                0   \n",
       "\n",
       "   total_losses_home  total_wins_away  total_losses_away  \\\n",
       "0                  0                0                  0   \n",
       "1                  1                1                  0   \n",
       "2                  0                0                  0   \n",
       "3                  0                1                  1   \n",
       "4                  0                0                  0   \n",
       "\n",
       "   last_10_games_win_home  last_10_games_win_away  last_meeting_result  \\\n",
       "0                       0                       0                    1   \n",
       "1                       0                       1                    1   \n",
       "2                       0                       0                    1   \n",
       "3                       0                       1                    0   \n",
       "4                       0                       0                    0   \n",
       "\n",
       "   last_game_result_home  last_game_result_away  \n",
       "0                    NaN                    NaN  \n",
       "1                    0.0                    1.0  \n",
       "2                    NaN                    NaN  \n",
       "3                    NaN                    1.0  \n",
       "4                    NaN                    NaN  "
      ]
     },
     "execution_count": 3,
     "metadata": {},
     "output_type": "execute_result"
    }
   ],
   "source": [
    "df.head()"
   ]
  },
  {
   "cell_type": "code",
   "execution_count": 4,
   "id": "224dc3ea",
   "metadata": {},
   "outputs": [],
   "source": [
    "# fill null values \n",
    "df.fillna(0,inplace=True)"
   ]
  },
  {
   "cell_type": "code",
   "execution_count": 5,
   "id": "98215afc",
   "metadata": {},
   "outputs": [],
   "source": [
    "# Encode team codes\n",
    "\n",
    "from sklearn.preprocessing import LabelEncoder\n",
    "\n",
    "# Initialize LabelEncoders\n",
    "le_home = LabelEncoder()\n",
    "le_away = LabelEncoder()\n",
    "\n",
    "# Apply the LabelEncoder\n",
    "df['homeTeamCode_encoded'] = le_home.fit_transform(df['homeTeamCode'])\n",
    "df['awayTeamCode_encoded'] = le_away.fit_transform(df['awayTeamCode'])"
   ]
  },
  {
   "cell_type": "markdown",
   "id": "fbd32281",
   "metadata": {},
   "source": [
    "#### Preparing X and Y variables"
   ]
  },
  {
   "cell_type": "code",
   "execution_count": 6,
   "id": "56d72fde",
   "metadata": {},
   "outputs": [],
   "source": [
    "X = df.drop(columns=['game_id','homeTeamWon','homeTeamCode','awayTeamCode'],axis=1)"
   ]
  },
  {
   "cell_type": "code",
   "execution_count": 7,
   "id": "cd613177",
   "metadata": {},
   "outputs": [
    {
     "data": {
      "text/html": [
       "<div>\n",
       "<style scoped>\n",
       "    .dataframe tbody tr th:only-of-type {\n",
       "        vertical-align: middle;\n",
       "    }\n",
       "\n",
       "    .dataframe tbody tr th {\n",
       "        vertical-align: top;\n",
       "    }\n",
       "\n",
       "    .dataframe thead th {\n",
       "        text-align: right;\n",
       "    }\n",
       "</style>\n",
       "<table border=\"1\" class=\"dataframe\">\n",
       "  <thead>\n",
       "    <tr style=\"text-align: right;\">\n",
       "      <th></th>\n",
       "      <th>isPlayoffGame</th>\n",
       "      <th>season</th>\n",
       "      <th>total_games_played_by_home</th>\n",
       "      <th>total_games_played_by_away</th>\n",
       "      <th>total_wins_home</th>\n",
       "      <th>total_losses_home</th>\n",
       "      <th>total_wins_away</th>\n",
       "      <th>total_losses_away</th>\n",
       "      <th>last_10_games_win_home</th>\n",
       "      <th>last_10_games_win_away</th>\n",
       "      <th>last_meeting_result</th>\n",
       "      <th>last_game_result_home</th>\n",
       "      <th>last_game_result_away</th>\n",
       "      <th>homeTeamCode_encoded</th>\n",
       "      <th>awayTeamCode_encoded</th>\n",
       "    </tr>\n",
       "  </thead>\n",
       "  <tbody>\n",
       "    <tr>\n",
       "      <th>21739</th>\n",
       "      <td>1</td>\n",
       "      <td>2023</td>\n",
       "      <td>102</td>\n",
       "      <td>101</td>\n",
       "      <td>61</td>\n",
       "      <td>41</td>\n",
       "      <td>66</td>\n",
       "      <td>35</td>\n",
       "      <td>6</td>\n",
       "      <td>7</td>\n",
       "      <td>1</td>\n",
       "      <td>0.0</td>\n",
       "      <td>1.0</td>\n",
       "      <td>11</td>\n",
       "      <td>12</td>\n",
       "    </tr>\n",
       "    <tr>\n",
       "      <th>21740</th>\n",
       "      <td>1</td>\n",
       "      <td>2023</td>\n",
       "      <td>103</td>\n",
       "      <td>102</td>\n",
       "      <td>61</td>\n",
       "      <td>42</td>\n",
       "      <td>67</td>\n",
       "      <td>35</td>\n",
       "      <td>5</td>\n",
       "      <td>8</td>\n",
       "      <td>1</td>\n",
       "      <td>0.0</td>\n",
       "      <td>1.0</td>\n",
       "      <td>11</td>\n",
       "      <td>12</td>\n",
       "    </tr>\n",
       "    <tr>\n",
       "      <th>21741</th>\n",
       "      <td>1</td>\n",
       "      <td>2023</td>\n",
       "      <td>103</td>\n",
       "      <td>104</td>\n",
       "      <td>67</td>\n",
       "      <td>36</td>\n",
       "      <td>62</td>\n",
       "      <td>42</td>\n",
       "      <td>7</td>\n",
       "      <td>5</td>\n",
       "      <td>1</td>\n",
       "      <td>0.0</td>\n",
       "      <td>1.0</td>\n",
       "      <td>12</td>\n",
       "      <td>11</td>\n",
       "    </tr>\n",
       "    <tr>\n",
       "      <th>21742</th>\n",
       "      <td>1</td>\n",
       "      <td>2023</td>\n",
       "      <td>105</td>\n",
       "      <td>104</td>\n",
       "      <td>63</td>\n",
       "      <td>42</td>\n",
       "      <td>67</td>\n",
       "      <td>37</td>\n",
       "      <td>5</td>\n",
       "      <td>6</td>\n",
       "      <td>1</td>\n",
       "      <td>1.0</td>\n",
       "      <td>0.0</td>\n",
       "      <td>11</td>\n",
       "      <td>12</td>\n",
       "    </tr>\n",
       "    <tr>\n",
       "      <th>21743</th>\n",
       "      <td>1</td>\n",
       "      <td>2023</td>\n",
       "      <td>105</td>\n",
       "      <td>106</td>\n",
       "      <td>67</td>\n",
       "      <td>38</td>\n",
       "      <td>64</td>\n",
       "      <td>42</td>\n",
       "      <td>6</td>\n",
       "      <td>6</td>\n",
       "      <td>1</td>\n",
       "      <td>0.0</td>\n",
       "      <td>1.0</td>\n",
       "      <td>12</td>\n",
       "      <td>11</td>\n",
       "    </tr>\n",
       "  </tbody>\n",
       "</table>\n",
       "</div>"
      ],
      "text/plain": [
       "       isPlayoffGame  season  total_games_played_by_home  \\\n",
       "21739              1    2023                         102   \n",
       "21740              1    2023                         103   \n",
       "21741              1    2023                         103   \n",
       "21742              1    2023                         105   \n",
       "21743              1    2023                         105   \n",
       "\n",
       "       total_games_played_by_away  total_wins_home  total_losses_home  \\\n",
       "21739                         101               61                 41   \n",
       "21740                         102               61                 42   \n",
       "21741                         104               67                 36   \n",
       "21742                         104               63                 42   \n",
       "21743                         106               67                 38   \n",
       "\n",
       "       total_wins_away  total_losses_away  last_10_games_win_home  \\\n",
       "21739               66                 35                       6   \n",
       "21740               67                 35                       5   \n",
       "21741               62                 42                       7   \n",
       "21742               67                 37                       5   \n",
       "21743               64                 42                       6   \n",
       "\n",
       "       last_10_games_win_away  last_meeting_result  last_game_result_home  \\\n",
       "21739                       7                    1                    0.0   \n",
       "21740                       8                    1                    0.0   \n",
       "21741                       5                    1                    0.0   \n",
       "21742                       6                    1                    1.0   \n",
       "21743                       6                    1                    0.0   \n",
       "\n",
       "       last_game_result_away  homeTeamCode_encoded  awayTeamCode_encoded  \n",
       "21739                    1.0                    11                    12  \n",
       "21740                    1.0                    11                    12  \n",
       "21741                    1.0                    12                    11  \n",
       "21742                    0.0                    11                    12  \n",
       "21743                    1.0                    12                    11  "
      ]
     },
     "execution_count": 7,
     "metadata": {},
     "output_type": "execute_result"
    }
   ],
   "source": [
    "X.tail()"
   ]
  },
  {
   "cell_type": "code",
   "execution_count": 8,
   "id": "924b7f9d",
   "metadata": {},
   "outputs": [],
   "source": [
    "y = df['homeTeamWon']"
   ]
  },
  {
   "cell_type": "code",
   "execution_count": 9,
   "id": "ffc69816",
   "metadata": {},
   "outputs": [
    {
     "data": {
      "text/plain": [
       "0        1\n",
       "1        1\n",
       "2        0\n",
       "3        1\n",
       "4        0\n",
       "        ..\n",
       "21739    0\n",
       "21740    1\n",
       "21741    0\n",
       "21742    1\n",
       "21743    1\n",
       "Name: homeTeamWon, Length: 21744, dtype: int64"
      ]
     },
     "execution_count": 9,
     "metadata": {},
     "output_type": "execute_result"
    }
   ],
   "source": [
    "y"
   ]
  },
  {
   "cell_type": "code",
   "execution_count": 10,
   "id": "72459f1d",
   "metadata": {},
   "outputs": [
    {
     "data": {
      "text/plain": [
       "(21744, 15)"
      ]
     },
     "execution_count": 10,
     "metadata": {},
     "output_type": "execute_result"
    }
   ],
   "source": [
    "X.shape"
   ]
  },
  {
   "cell_type": "markdown",
   "id": "88762ce1",
   "metadata": {},
   "source": [
    "#### Training and testing on base model"
   ]
  },
  {
   "cell_type": "code",
   "execution_count": 14,
   "id": "8bbf3f36",
   "metadata": {},
   "outputs": [],
   "source": [
    "X_b = X[['isPlayoffGame', 'season','homeTeamCode_encoded', 'awayTeamCode_encoded']]\n",
    "\n",
    "y_b = y"
   ]
  },
  {
   "cell_type": "code",
   "execution_count": 15,
   "id": "d7a82146",
   "metadata": {},
   "outputs": [
    {
     "data": {
      "text/plain": [
       "((17395, 4), (4349, 4))"
      ]
     },
     "execution_count": 15,
     "metadata": {},
     "output_type": "execute_result"
    }
   ],
   "source": [
    "# separate dataset into train and test\n",
    "from sklearn.model_selection import train_test_split\n",
    "X_train_b, X_test_b, y_train_b, y_test_b = train_test_split(X_b,y_b,test_size=0.2,random_state=42)\n",
    "X_train_b.shape, X_test_b.shape"
   ]
  },
  {
   "cell_type": "markdown",
   "id": "37858a92",
   "metadata": {},
   "source": [
    "#### Create an Evaluate Function to give all metrics after model Training"
   ]
  },
  {
   "cell_type": "code",
   "execution_count": 17,
   "id": "8c247bd0",
   "metadata": {},
   "outputs": [],
   "source": [
    "def evaluate_classification_model(y_true, y_pred):\n",
    "    accuracy = accuracy_score(y_true, y_pred)\n",
    "    f1 = f1_score(y_true, y_pred)\n",
    "    precision = precision_score(y_true, y_pred)\n",
    "    recall = recall_score(y_true, y_pred)\n",
    "\n",
    "    # Confusion matrix\n",
    "    conf_matrix = confusion_matrix(y_true, y_pred)\n",
    "    \n",
    "    return accuracy, precision, recall, f1, conf_matrix"
   ]
  },
  {
   "cell_type": "code",
   "execution_count": 20,
   "id": "d73e69b4",
   "metadata": {},
   "outputs": [
    {
     "name": "stdout",
     "output_type": "stream",
     "text": [
      "----------------------------------\n",
      "RandomForestClassifier(random_state=42)\n",
      "Model performance for Test set\n",
      "- Accuracy: 0.5176\n",
      "- F1 Score: 0.5555\n",
      "- Precision: 0.5634\n",
      "- Recall: 0.5478\n",
      "-Confusion Matrix:  [[ 940 1016]\n",
      " [1082 1311]]\n",
      "===================================\n",
      "\n",
      "\n"
     ]
    }
   ],
   "source": [
    "# Define base model for classification\n",
    "model = RandomForestClassifier(random_state=42)\n",
    "\n",
    "model.fit(X_train_b, y_train_b)  # Train model\n",
    "\n",
    "\n",
    "# Predict binary win/loss outcomes for the test set\n",
    "y_pred = model.predict(X_test_b)\n",
    "\n",
    "\n",
    "accuracy, precision, recall, f1, conf_matrix = evaluate_classification_model(y_test_b,y_pred)\n",
    "\n",
    "\n",
    "print('----------------------------------')\n",
    "print(model)\n",
    "print('Model performance for Test set')\n",
    "print(\"- Accuracy: {:.4f}\".format(accuracy))\n",
    "print(\"- F1 Score: {:.4f}\".format(f1))\n",
    "print(\"- Precision: {:.4f}\".format(precision))\n",
    "print(\"- Recall: {:.4f}\".format(recall))\n",
    "print(\"-Confusion Matrix: \",conf_matrix)\n",
    "# Store the F1 score for comparison\n",
    "    \n",
    "print('=' * 35)\n",
    "print('\\n')"
   ]
  },
  {
   "cell_type": "markdown",
   "id": "4ac58773",
   "metadata": {},
   "source": [
    "#### Modelling using the new features"
   ]
  },
  {
   "cell_type": "code",
   "execution_count": 25,
   "id": "ed5c4e99",
   "metadata": {},
   "outputs": [
    {
     "data": {
      "text/plain": [
       "((19569, 15), (2175, 15))"
      ]
     },
     "execution_count": 25,
     "metadata": {},
     "output_type": "execute_result"
    }
   ],
   "source": [
    "# separate dataset into train and test\n",
    "from sklearn.model_selection import train_test_split\n",
    "X_train, X_test, y_train, y_test = train_test_split(X,y,test_size=0.1,random_state=42)\n",
    "X_train.shape, X_test.shape"
   ]
  },
  {
   "cell_type": "code",
   "execution_count": 27,
   "id": "79ccb8e7",
   "metadata": {
    "scrolled": false
   },
   "outputs": [
    {
     "name": "stdout",
     "output_type": "stream",
     "text": [
      "----------------------------------\n",
      "RandomForestClassifier(random_state=42)\n",
      "Model performance for Test set\n",
      "- Accuracy: 0.5651\n",
      "- F1 Score: 0.6276\n",
      "- Precision: 0.5970\n",
      "- Recall: 0.6614\n",
      "-Confusion Matrix:  [[432 538]\n",
      " [408 797]]\n",
      "===================================\n",
      "\n",
      "\n",
      "----------------------------------\n",
      "LogisticRegression()\n",
      "Model performance for Test set\n",
      "- Accuracy: 0.5793\n",
      "- F1 Score: 0.6784\n",
      "- Precision: 0.5884\n",
      "- Recall: 0.8008\n",
      "-Confusion Matrix:  [[295 675]\n",
      " [240 965]]\n",
      "===================================\n",
      "\n",
      "\n"
     ]
    },
    {
     "name": "stderr",
     "output_type": "stream",
     "text": [
      "/Users/pramodkondur/vscode_projects/Bet-On-NHL/venv/lib/python3.12/site-packages/sklearn/linear_model/_logistic.py:469: ConvergenceWarning: lbfgs failed to converge (status=1):\n",
      "STOP: TOTAL NO. of ITERATIONS REACHED LIMIT.\n",
      "\n",
      "Increase the number of iterations (max_iter) or scale the data as shown in:\n",
      "    https://scikit-learn.org/stable/modules/preprocessing.html\n",
      "Please also refer to the documentation for alternative solver options:\n",
      "    https://scikit-learn.org/stable/modules/linear_model.html#logistic-regression\n",
      "  n_iter_i = _check_optimize_result(\n"
     ]
    },
    {
     "name": "stdout",
     "output_type": "stream",
     "text": [
      "----------------------------------\n",
      "RandomForestClassifier(max_depth=5, min_samples_leaf=10, n_estimators=50,\n",
      "                       random_state=42)\n",
      "Model performance for Test set\n",
      "- Accuracy: 0.5867\n",
      "- F1 Score: 0.7086\n",
      "- Precision: 0.5814\n",
      "- Recall: 0.9071\n",
      "-Confusion Matrix:  [[ 183  787]\n",
      " [ 112 1093]]\n",
      "===================================\n",
      "\n",
      "\n"
     ]
    }
   ],
   "source": [
    "# Define your models for classification\n",
    "models = {\n",
    "   LogisticRegression(),\n",
    "   RandomForestClassifier(random_state=42),\n",
    "   RandomForestClassifier(\n",
    "        n_estimators=50,        # Number of trees\n",
    "        max_depth=5,            # Maximum depth\n",
    "        min_samples_split=2,    # Minimum samples to split a node\n",
    "        min_samples_leaf=10,    # Minimum samples in each leaf\n",
    "        random_state=42)\n",
    "}\n",
    "\n",
    "for model in models:\n",
    "    model.fit(X_train, y_train)  # Train model\n",
    "\n",
    "   \n",
    "    # Predict binary win/loss outcomes for the test set\n",
    "    y_pred = model.predict(X_test)\n",
    "    \n",
    "    \n",
    "    accuracy, precision, recall, f1, conf_matrix = evaluate_classification_model(y_test,y_pred)\n",
    "\n",
    "    \n",
    "    print('----------------------------------')\n",
    "    print(model)\n",
    "    print('Model performance for Test set')\n",
    "    print(\"- Accuracy: {:.4f}\".format(accuracy))\n",
    "    print(\"- F1 Score: {:.4f}\".format(f1))\n",
    "    print(\"- Precision: {:.4f}\".format(precision))\n",
    "    print(\"- Recall: {:.4f}\".format(recall))\n",
    "    print(\"-Confusion Matrix: \",conf_matrix)\n",
    "    # Store the F1 score for comparison\n",
    "        \n",
    "    print('=' * 35)\n",
    "    print('\\n')"
   ]
  },
  {
   "cell_type": "markdown",
   "id": "06480b5a",
   "metadata": {},
   "source": [
    "### Results"
   ]
  },
  {
   "cell_type": "code",
   "execution_count": 1,
   "id": "e0159e5f",
   "metadata": {},
   "outputs": [],
   "source": [
    "# Best model is RandomForest with the best Params at 0.7086 F1 score compared to base line model of 0.6276 F1 Score"
   ]
  },
  {
   "cell_type": "code",
   "execution_count": null,
   "id": "55f8c6fc",
   "metadata": {},
   "outputs": [],
   "source": []
  }
 ],
 "metadata": {
  "kernelspec": {
   "display_name": "Python 3 (ipykernel)",
   "language": "python",
   "name": "python3"
  },
  "language_info": {
   "codemirror_mode": {
    "name": "ipython",
    "version": 3
   },
   "file_extension": ".py",
   "mimetype": "text/x-python",
   "name": "python",
   "nbconvert_exporter": "python",
   "pygments_lexer": "ipython3",
   "version": "3.12.0"
  }
 },
 "nbformat": 4,
 "nbformat_minor": 5
}
